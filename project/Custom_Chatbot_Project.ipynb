{
 "cells": [
  {
   "cell_type": "markdown",
   "id": "124e5672",
   "metadata": {},
   "source": [
    "## **🚀 Custom Chatbot Project**"
   ]
  },
  {
   "cell_type": "markdown",
   "id": "2a4a94b3",
   "metadata": {},
   "source": [
    "TODO: In this cell, write an explanation of which dataset you have chosen and why it is appropriate for this task"
   ]
  },
  {
   "cell_type": "markdown",
   "id": "65277261",
   "metadata": {},
   "source": [
    "- In this project, we used a dataset containing a list of characters from \"Frieren: Beyond Journey's End,\" a Japanese manga series.\n",
    "\n",
    "- We chose this dataset because our goal was to create a tool that acts like an expert, providing information about the characters in this specific manga series.\n",
    "\n",
    "- To improve our tool's ability to answer questions, we employed a technique called `Retrieval Augmented Generation`.\n",
    "\n",
    "- This technique adds context from the dataset to the questions asked, helping the model give more accurate and relevant answers about the characters in \"Frieren: Beyond Journey's End.\""
   ]
  },
  {
   "cell_type": "code",
   "execution_count": 1,
   "id": "6b9b8656",
   "metadata": {},
   "outputs": [],
   "source": [
    "import openai"
   ]
  },
  {
   "cell_type": "code",
   "execution_count": 2,
   "id": "d8636cdf",
   "metadata": {},
   "outputs": [],
   "source": [
    "# openai api key\n",
    "OPENAI_API_KEY = \"YOUR_OPENAI_API_KEY\"\n",
    "\n",
    "# URL and file paths\n",
    "SOURCE_URL = 'https://en.wikipedia.org/wiki/List_of_Frieren_characters'\n",
    "HTML_PAGE_FILEPATH = './html_page.html'\n",
    "CSV_FILEPATH_WITH_EMBEDDINGS = './frieren_wiki_with_embeddings.csv'\n"
   ]
  },
  {
   "cell_type": "markdown",
   "id": "a63d4c5f",
   "metadata": {},
   "source": [
    "### **Data Wrangling**\n",
    "\n",
    "TODO: In the cells below, load your chosen dataset into a `pandas` dataframe with a column named `\"text\"`. This column should contain all of your text data, separated into at least 20 rows."
   ]
  },
  {
   "cell_type": "code",
   "execution_count": 3,
   "id": "c69b83a1",
   "metadata": {},
   "outputs": [],
   "source": [
    "import requests\n",
    "import pandas as pd\n",
    "from bs4 import BeautifulSoup\n",
    "from typing import List, Union"
   ]
  },
  {
   "cell_type": "code",
   "execution_count": 4,
   "id": "0a595980",
   "metadata": {},
   "outputs": [],
   "source": [
    "# Helper function to fetch HTML page from a URL\n",
    "def fetch_html_page(url: str) -> bytes:\n",
    "    headers = {\n",
    "        'user-agent': 'Mozilla/5.0 (Macintosh; Intel Mac OS X 10_15_7) AppleWebKit/537.36 (KHTML, like Gecko) Chrome/112.0.0.0 Safari/537.36'\n",
    "    }\n",
    "    response = requests.get(url, headers=headers)\n",
    "    \n",
    "    if response.status_code == 200:\n",
    "        return response.content\n",
    "    else:\n",
    "        raise Exception('Connection error')\n",
    "\n",
    "# Save the HTML page to a file\n",
    "with open(HTML_PAGE_FILEPATH, mode='wb') as html_file:\n",
    "    html_page = fetch_html_page(SOURCE_URL)\n",
    "    html_file.write(html_page)"
   ]
  },
  {
   "cell_type": "code",
   "execution_count": 5,
   "id": "365cf88e",
   "metadata": {},
   "outputs": [
    {
     "data": {
      "text/html": [
       "<div>\n",
       "<style scoped>\n",
       "    .dataframe tbody tr th:only-of-type {\n",
       "        vertical-align: middle;\n",
       "    }\n",
       "\n",
       "    .dataframe tbody tr th {\n",
       "        vertical-align: top;\n",
       "    }\n",
       "\n",
       "    .dataframe thead th {\n",
       "        text-align: right;\n",
       "    }\n",
       "</style>\n",
       "<table border=\"1\" class=\"dataframe\">\n",
       "  <thead>\n",
       "    <tr style=\"text-align: right;\">\n",
       "      <th></th>\n",
       "      <th>Character</th>\n",
       "      <th>Description</th>\n",
       "    </tr>\n",
       "  </thead>\n",
       "  <tbody>\n",
       "    <tr>\n",
       "      <th>0</th>\n",
       "      <td>Frieren (フリーレン, Furīren)[a][b]</td>\n",
       "      <td>An elven mage who was a member of the Hero Par...</td>\n",
       "    </tr>\n",
       "    <tr>\n",
       "      <th>1</th>\n",
       "      <td>Fern (フェルン, Ferun)[e]</td>\n",
       "      <td>Frieren's apprentice. She is a war orphan from...</td>\n",
       "    </tr>\n",
       "    <tr>\n",
       "      <th>2</th>\n",
       "      <td>Stark (シュタルク, Shutaruku)[f]</td>\n",
       "      <td>A young warrior who Eisen raised, who serves a...</td>\n",
       "    </tr>\n",
       "    <tr>\n",
       "      <th>3</th>\n",
       "      <td>Himmel (ヒンメル, Hinmeru)[g]</td>\n",
       "      <td>A human member of the Hero Party. He was the h...</td>\n",
       "    </tr>\n",
       "    <tr>\n",
       "      <th>4</th>\n",
       "      <td>Heiter (ハイター, Haitā)[h]</td>\n",
       "      <td>A human member of the Hero Party, who was an a...</td>\n",
       "    </tr>\n",
       "    <tr>\n",
       "      <th>...</th>\n",
       "      <td>...</td>\n",
       "      <td>...</td>\n",
       "    </tr>\n",
       "    <tr>\n",
       "      <th>65</th>\n",
       "      <td>The Hero of the South</td>\n",
       "      <td>Fass is a Dwarf Himmel's Party encountered, an...</td>\n",
       "    </tr>\n",
       "    <tr>\n",
       "      <th>66</th>\n",
       "      <td>Fass (ファス, Fasu)[bm]</td>\n",
       "      <td>Milliarde is an old acquaintance and fellow el...</td>\n",
       "    </tr>\n",
       "    <tr>\n",
       "      <th>67</th>\n",
       "      <td>Milliarde (ミリアルデ, Miriarude)[bn]</td>\n",
       "      <td>Glück was the feudal lord of the Fortified Cit...</td>\n",
       "    </tr>\n",
       "    <tr>\n",
       "      <th>68</th>\n",
       "      <td>Glück (グリュック, Guryukku)[bo]</td>\n",
       "      <td>Lektüre is the daughter of Glück and the late ...</td>\n",
       "    </tr>\n",
       "    <tr>\n",
       "      <th>69</th>\n",
       "      <td>Lektüre (レクテュール, Rekuteyūru)[bp]</td>\n",
       "      <td>Lektüre is the daughter of Glück and the late ...</td>\n",
       "    </tr>\n",
       "  </tbody>\n",
       "</table>\n",
       "<p>70 rows × 2 columns</p>\n",
       "</div>"
      ],
      "text/plain": [
       "                           Character  \\\n",
       "0     Frieren (フリーレン, Furīren)[a][b]   \n",
       "1              Fern (フェルン, Ferun)[e]   \n",
       "2        Stark (シュタルク, Shutaruku)[f]   \n",
       "3          Himmel (ヒンメル, Hinmeru)[g]   \n",
       "4            Heiter (ハイター, Haitā)[h]   \n",
       "..                               ...   \n",
       "65             The Hero of the South   \n",
       "66              Fass (ファス, Fasu)[bm]   \n",
       "67  Milliarde (ミリアルデ, Miriarude)[bn]   \n",
       "68       Glück (グリュック, Guryukku)[bo]   \n",
       "69  Lektüre (レクテュール, Rekuteyūru)[bp]   \n",
       "\n",
       "                                          Description  \n",
       "0   An elven mage who was a member of the Hero Par...  \n",
       "1   Frieren's apprentice. She is a war orphan from...  \n",
       "2   A young warrior who Eisen raised, who serves a...  \n",
       "3   A human member of the Hero Party. He was the h...  \n",
       "4   A human member of the Hero Party, who was an a...  \n",
       "..                                                ...  \n",
       "65  Fass is a Dwarf Himmel's Party encountered, an...  \n",
       "66  Milliarde is an old acquaintance and fellow el...  \n",
       "67  Glück was the feudal lord of the Fortified Cit...  \n",
       "68  Lektüre is the daughter of Glück and the late ...  \n",
       "69  Lektüre is the daughter of Glück and the late ...  \n",
       "\n",
       "[70 rows x 2 columns]"
      ]
     },
     "execution_count": 5,
     "metadata": {},
     "output_type": "execute_result"
    }
   ],
   "source": [
    "def extract_characters_from_html(html_content):\n",
    "    soup = BeautifulSoup(html_content, 'html.parser')\n",
    "\n",
    "    characters = []\n",
    "\n",
    "    # Find all <dl> tags\n",
    "    dl_elements = soup.find_all('dl')\n",
    "\n",
    "    for dl in dl_elements:\n",
    "        dt_elements = dl.find_all('dt')\n",
    "        for dt in dt_elements:\n",
    "            character_name = dt.text.strip()\n",
    "            dd = dt.find_next_sibling('dd')\n",
    "\n",
    "            if dd:\n",
    "                next_dd = dd.find_next_sibling('dd')\n",
    "                if next_dd:\n",
    "                    character_description = next_dd.text.strip()\n",
    "                else:\n",
    "                    character_description = dd.text.strip()\n",
    "            else:\n",
    "                character_description = \"An elven mage who was a member of the Hero Party. Although she looks young, she was born into a long-lived race of elves and has lived for over a thousand years. Because her sense of time is different from that of humans, she does not mind working for months, if not years, at a time. After the death of Himmel, a member of the party, Frieren regrets not getting to know him better during their ten-year adventure. As a result, she embarks on another journey to learn more about humanity. She also travels with a human wizard apprentice, Fern, after taking her on as an apprentice at Heiter's suggestion.\"\n",
    "\n",
    "            characters.append((character_name, character_description))\n",
    "\n",
    "    df = pd.DataFrame(characters, columns=['Character', 'Description'])\n",
    "\n",
    "    return df\n",
    "\n",
    "with open(HTML_PAGE_FILEPATH, mode='rb') as html_file:\n",
    "    html_content = html_file.read()\n",
    "\n",
    "characters_df = extract_characters_from_html(html_content)\n",
    "characters_df"
   ]
  },
  {
   "cell_type": "markdown",
   "id": "9f5dbbc4",
   "metadata": {},
   "source": [
    "### **Creating an Embeddings Index for our Chatbot**"
   ]
  },
  {
   "cell_type": "code",
   "execution_count": 7,
   "id": "727089a6",
   "metadata": {},
   "outputs": [],
   "source": [
    "openai.api_key = OPENAI_API_KEY"
   ]
  },
  {
   "cell_type": "code",
   "execution_count": 8,
   "id": "582f0656",
   "metadata": {},
   "outputs": [],
   "source": [
    "pd.reset_option('display.max_colwidth')\n",
    "pd.reset_option('display.max_rows')"
   ]
  },
  {
   "cell_type": "code",
   "execution_count": 9,
   "id": "3fa2704e",
   "metadata": {},
   "outputs": [],
   "source": [
    "def get_embeddings(prompt: Union[str, List[str]]) -> List[List[float]]:\n",
    "    \"\"\"\n",
    "    Retrieves embeddings from OpenAI API for the given prompt(s) using the default embedding model.\n",
    "    \"\"\"\n",
    "    \n",
    "    response = openai.Embedding.create(\n",
    "        input=prompt if isinstance(prompt, list) else [prompt],\n",
    "        model='text-embedding-3-small'\n",
    "    )\n",
    "    return [row.embedding for row in response.data]\n"
   ]
  },
  {
   "cell_type": "code",
   "execution_count": 10,
   "id": "851e5b2b",
   "metadata": {},
   "outputs": [],
   "source": [
    "def create_embeddings(df, text_column, batch_size=32):\n",
    "    embeddings_output = []\n",
    "    for idx in range(0, len(df), batch_size):\n",
    "        batch = df.iloc[idx:idx+batch_size][text_column].tolist()\n",
    "        embeddings = get_embeddings(batch)\n",
    "        embeddings_output.extend(embeddings)\n",
    "    return embeddings_output\n"
   ]
  },
  {
   "cell_type": "code",
   "execution_count": 11,
   "id": "c403f543",
   "metadata": {},
   "outputs": [],
   "source": [
    "characters_df['embedding'] = create_embeddings(characters_df, text_column='Description')\n",
    "characters_df.to_csv(CSV_FILEPATH_WITH_EMBEDDINGS, sep=',', index=False)"
   ]
  },
  {
   "cell_type": "code",
   "execution_count": 12,
   "id": "74280b92",
   "metadata": {},
   "outputs": [
    {
     "data": {
      "text/html": [
       "<div>\n",
       "<style scoped>\n",
       "    .dataframe tbody tr th:only-of-type {\n",
       "        vertical-align: middle;\n",
       "    }\n",
       "\n",
       "    .dataframe tbody tr th {\n",
       "        vertical-align: top;\n",
       "    }\n",
       "\n",
       "    .dataframe thead th {\n",
       "        text-align: right;\n",
       "    }\n",
       "</style>\n",
       "<table border=\"1\" class=\"dataframe\">\n",
       "  <thead>\n",
       "    <tr style=\"text-align: right;\">\n",
       "      <th></th>\n",
       "      <th>Character</th>\n",
       "      <th>Description</th>\n",
       "      <th>embedding</th>\n",
       "    </tr>\n",
       "  </thead>\n",
       "  <tbody>\n",
       "    <tr>\n",
       "      <th>0</th>\n",
       "      <td>Frieren (フリーレン, Furīren)[a][b]</td>\n",
       "      <td>An elven mage who was a member of the Hero Par...</td>\n",
       "      <td>[-0.016321850940585136, -0.0030223201029002666...</td>\n",
       "    </tr>\n",
       "    <tr>\n",
       "      <th>1</th>\n",
       "      <td>Fern (フェルン, Ferun)[e]</td>\n",
       "      <td>Frieren's apprentice. She is a war orphan from...</td>\n",
       "      <td>[-0.024075113236904144, -0.012648157775402069,...</td>\n",
       "    </tr>\n",
       "    <tr>\n",
       "      <th>2</th>\n",
       "      <td>Stark (シュタルク, Shutaruku)[f]</td>\n",
       "      <td>A young warrior who Eisen raised, who serves a...</td>\n",
       "      <td>[0.007023664657026529, 0.005538128782063723, -...</td>\n",
       "    </tr>\n",
       "    <tr>\n",
       "      <th>3</th>\n",
       "      <td>Himmel (ヒンメル, Hinmeru)[g]</td>\n",
       "      <td>A human member of the Hero Party. He was the h...</td>\n",
       "      <td>[-0.01922447793185711, -0.022054746747016907, ...</td>\n",
       "    </tr>\n",
       "    <tr>\n",
       "      <th>4</th>\n",
       "      <td>Heiter (ハイター, Haitā)[h]</td>\n",
       "      <td>A human member of the Hero Party, who was an a...</td>\n",
       "      <td>[-0.013876520097255707, -0.007876708172261715,...</td>\n",
       "    </tr>\n",
       "  </tbody>\n",
       "</table>\n",
       "</div>"
      ],
      "text/plain": [
       "                        Character  \\\n",
       "0  Frieren (フリーレン, Furīren)[a][b]   \n",
       "1           Fern (フェルン, Ferun)[e]   \n",
       "2     Stark (シュタルク, Shutaruku)[f]   \n",
       "3       Himmel (ヒンメル, Hinmeru)[g]   \n",
       "4         Heiter (ハイター, Haitā)[h]   \n",
       "\n",
       "                                         Description  \\\n",
       "0  An elven mage who was a member of the Hero Par...   \n",
       "1  Frieren's apprentice. She is a war orphan from...   \n",
       "2  A young warrior who Eisen raised, who serves a...   \n",
       "3  A human member of the Hero Party. He was the h...   \n",
       "4  A human member of the Hero Party, who was an a...   \n",
       "\n",
       "                                           embedding  \n",
       "0  [-0.016321850940585136, -0.0030223201029002666...  \n",
       "1  [-0.024075113236904144, -0.012648157775402069,...  \n",
       "2  [0.007023664657026529, 0.005538128782063723, -...  \n",
       "3  [-0.01922447793185711, -0.022054746747016907, ...  \n",
       "4  [-0.013876520097255707, -0.007876708172261715,...  "
      ]
     },
     "execution_count": 12,
     "metadata": {},
     "output_type": "execute_result"
    }
   ],
   "source": [
    "characters_df.head()"
   ]
  },
  {
   "cell_type": "markdown",
   "id": "ae769871",
   "metadata": {},
   "source": [
    "### **Custom Query Completion**\n",
    "\n",
    "TODO: In the cells below, compose a custom query using your chosen dataset and retrieve results from an OpenAI `Completion` model. You may copy and paste any useful code from the course materials."
   ]
  },
  {
   "cell_type": "code",
   "execution_count": 96,
   "id": "048112f9",
   "metadata": {},
   "outputs": [],
   "source": [
    "def handle_question_without_context(prompt):\n",
    "    response = openai.Completion.create(\n",
    "        engine=\"gpt-3.5-turbo-instruct\",\n",
    "        prompt=prompt,\n",
    "        max_tokens=50, \n",
    "    )\n",
    "    return response.choices[0].text.strip()"
   ]
  },
  {
   "cell_type": "code",
   "execution_count": 108,
   "id": "0a2b2eca",
   "metadata": {},
   "outputs": [],
   "source": [
    "def handle_question_with_context(prompt: str, embeddings: List[List[float]]) -> str:\n",
    "    context = \" \".join([\" \".join(map(str, emb)) for emb in embeddings])\n",
    "    \n",
    "    if len(context.split()) > 60:\n",
    "        context = \" \".join(context.split()[:60])\n",
    "\n",
    "    prompt_with_context = f\"{context}\\n\\n{prompt}\"\n",
    "    \n",
    "    response = openai.Completion.create(\n",
    "        model=\"gpt-3.5-turbo-instruct\",\n",
    "        prompt=prompt_with_context,\n",
    "        max_tokens=50\n",
    "    )\n",
    "    return response.choices[0].text.strip()\n"
   ]
  },
  {
   "cell_type": "markdown",
   "id": "1783f146",
   "metadata": {},
   "source": [
    "### **Custom Performance Demonstration**\n",
    "\n",
    "TODO: In the cells below, demonstrate the performance of your custom query using at least 2 questions. For each question, show the answer from a basic `Completion` model query as well as the answer from your custom query."
   ]
  },
  {
   "cell_type": "code",
   "execution_count": 61,
   "id": "5c330189",
   "metadata": {},
   "outputs": [],
   "source": [
    "df = pd.read_csv(CSV_FILEPATH_WITH_EMBEDDINGS)\n",
    "\n",
    "df['embedding'] = df['embedding'].apply(lambda value: [float(dim) for dim in value.replace('[', '').replace(']', '').split(',')])"
   ]
  },
  {
   "cell_type": "markdown",
   "id": "4f11fdc0",
   "metadata": {},
   "source": [
    "#### **Question 1**"
   ]
  },
  {
   "cell_type": "code",
   "execution_count": 109,
   "id": "9efecd1b",
   "metadata": {},
   "outputs": [
    {
     "name": "stdout",
     "output_type": "stream",
     "text": [
      "Answer without Context: \n",
      " Frieren is a character from the manga series \"The Girl From the Other Side: Siúil, A Rún.\" She is a powerful sorceress who has mastered various types of magic and has lived for a long time. She\n",
      "\n",
      "Answer with Context: \n",
      " Frieren is a character from the Japanese manga series \"The Witch of the Water Town.\" She is a powerful ice witch who has lived for hundreds of years with her older sister, Lien. Despite her cold exterior, Frieren is kind\n"
     ]
    }
   ],
   "source": [
    "q1 = \"Who is Frieren? Please answer briefly.\"\n",
    "\n",
    "print('Answer without Context: \\n', handle_question_without_context(q1))\n",
    "print('\\nAnswer with Context: \\n', handle_question_with_context(q1, df['embedding'].tolist()))"
   ]
  },
  {
   "cell_type": "markdown",
   "id": "6e86e37c",
   "metadata": {},
   "source": [
    "#### **Question 2**"
   ]
  },
  {
   "cell_type": "code",
   "execution_count": 110,
   "id": "6f646989",
   "metadata": {},
   "outputs": [
    {
     "name": "stdout",
     "output_type": "stream",
     "text": [
      "Answer without Context: \n",
      " Fern is a human girl who lived in a small village in the mountains with her family. She was raised in a harsh environment, constantly struggling for survival. Her father was a skilled hunter, and her mother was a herbalist who taught Fern\n",
      "\n",
      "Answer with Context: \n",
      " Fern's background is largely shrouded in mystery. She is an ice spirit and does not have a human past like Frieren. However, she does mention that she has been around for a long time and has been through many battles\n"
     ]
    }
   ],
   "source": [
    "q2 = \"What is Fern's background? How did she become Frieren's apprentice?\"\n",
    "\n",
    "print('Answer without Context: \\n', handle_question_without_context(q2))\n",
    "print('\\nAnswer with Context: \\n', handle_question_with_context(q2, df['embedding'].tolist()))"
   ]
  },
  {
   "cell_type": "markdown",
   "id": "d9668c55",
   "metadata": {},
   "source": [
    "#### **Question 3**"
   ]
  },
  {
   "cell_type": "code",
   "execution_count": 111,
   "id": "0f308069",
   "metadata": {},
   "outputs": [
    {
     "name": "stdout",
     "output_type": "stream",
     "text": [
      "Answer without Context: \n",
      " Himmel is a major character in the manga series \"Frieren at the Funeral.\" He is a powerful mage and the strongest member of the funeral procession led by Frieren's father. Himmel initially appears as a stoic and distant\n",
      "\n",
      "Answer with Context: \n",
      " Himmel is a major supporting character in the story. He is a skilled knight and a member of Frieren's adventuring party. Although he is not related to Frieren by blood, he considers her to be like a younger sister\n"
     ]
    }
   ],
   "source": [
    "q3 = \"What role does Himmel play in the story? What are his relationships with Frieren?\"\n",
    "\n",
    "print('Answer without Context: \\n', handle_question_without_context(q3))\n",
    "print('\\nAnswer with Context: \\n', handle_question_with_context(q3, df['embedding'].tolist()))"
   ]
  },
  {
   "cell_type": "markdown",
   "id": "3bdb29a2",
   "metadata": {},
   "source": [
    "#### **✍🏻 Analysis of Model Responses**\n",
    "\n",
    "- **Question 1**\n",
    "\n",
    "    The model's answer showed partial correctness, possibly due to unclear or incomplete context provided.\n",
    "\n",
    "- **Question 2**\n",
    "\n",
    "    The result could be impacted by setting a maximum token limit for context transmission, limiting the model's access to relevant information and affecting its accuracy.\n",
    "\n",
    "- **Question 3**\n",
    "\n",
    "    The model likely found more pertinent details within the provided context, leading to a more accurate response.\n"
   ]
  }
 ],
 "metadata": {
  "kernelspec": {
   "display_name": "Python 3 (ipykernel)",
   "language": "python",
   "name": "python3"
  },
  "language_info": {
   "codemirror_mode": {
    "name": "ipython",
    "version": 3
   },
   "file_extension": ".py",
   "mimetype": "text/x-python",
   "name": "python",
   "nbconvert_exporter": "python",
   "pygments_lexer": "ipython3",
   "version": "3.12.1"
  }
 },
 "nbformat": 4,
 "nbformat_minor": 5
}
